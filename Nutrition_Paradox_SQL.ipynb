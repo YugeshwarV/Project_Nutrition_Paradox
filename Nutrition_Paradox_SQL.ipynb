{
  "cells": [
    {
      "cell_type": "markdown",
      "metadata": {
        "id": "view-in-github",
        "colab_type": "text"
      },
      "source": [
        "<a href=\"https://colab.research.google.com/github/YugeshwarV/Project_Nutrition_Paradox/blob/main/Nutrition_Paradox_SQL.ipynb\" target=\"_parent\"><img src=\"https://colab.research.google.com/assets/colab-badge.svg\" alt=\"Open In Colab\"/></a>"
      ]
    },
    {
      "cell_type": "markdown",
      "id": "3ab0a3cd-8c09-4c08-8b08-36ee1a922bfb",
      "metadata": {
        "id": "3ab0a3cd-8c09-4c08-8b08-36ee1a922bfb"
      },
      "source": [
        "# Nutrition Paradox: A Global View on Obesity and Malnutrition"
      ]
    },
    {
      "cell_type": "markdown",
      "id": "dd419e89-e600-4087-bbc4-f71f979a42ea",
      "metadata": {
        "id": "dd419e89-e600-4087-bbc4-f71f979a42ea"
      },
      "source": [
        "### Step 4: Insert Data into SQL"
      ]
    },
    {
      "cell_type": "code",
      "execution_count": null,
      "id": "b41771ba-7c39-4b4e-8b9d-aa85ccccc49c",
      "metadata": {
        "id": "b41771ba-7c39-4b4e-8b9d-aa85ccccc49c"
      },
      "outputs": [],
      "source": [
        "import mysql.connector\n",
        "import pandas as pd"
      ]
    },
    {
      "cell_type": "code",
      "execution_count": null,
      "id": "a19f1b0f-6194-44dd-917d-0e5749a586fe",
      "metadata": {
        "id": "a19f1b0f-6194-44dd-917d-0e5749a586fe"
      },
      "outputs": [],
      "source": [
        "# Load cleaned CSVs\n",
        "df_obesity = pd.read_csv(\"cleaned_obesity.csv\")\n",
        "df_malnutrition = pd.read_csv(\"cleaned_malnutrition.csv\")\n"
      ]
    },
    {
      "cell_type": "markdown",
      "id": "a4ab84de-312a-4851-9687-9d46f8a6d99f",
      "metadata": {
        "id": "a4ab84de-312a-4851-9687-9d46f8a6d99f"
      },
      "source": [
        "#### Connect to MySQL"
      ]
    },
    {
      "cell_type": "code",
      "execution_count": null,
      "id": "c4f53fcd-2392-4508-ad7e-00d41320152c",
      "metadata": {
        "id": "c4f53fcd-2392-4508-ad7e-00d41320152c"
      },
      "outputs": [],
      "source": [
        "conn = mysql.connector.connect(\n",
        "    host=\"localhost\",\n",
        "    user=\"root\",\n",
        "    password=\"ShaYug\",\n",
        "    database=\"nutrition_db\"\n",
        ")\n",
        "cursor = conn.cursor()"
      ]
    },
    {
      "cell_type": "code",
      "execution_count": null,
      "id": "117169ab-a3ee-43f3-8189-fe05377d4de0",
      "metadata": {
        "id": "117169ab-a3ee-43f3-8189-fe05377d4de0"
      },
      "outputs": [],
      "source": [
        "# Create tables\n",
        "cursor.execute(\"\"\"\n",
        "    CREATE TABLE IF NOT EXISTS obesity (\n",
        "        id INT AUTO_INCREMENT PRIMARY KEY,\n",
        "        Year INT,\n",
        "        Gender VARCHAR(10),\n",
        "        Mean_Estimate FLOAT,\n",
        "        LowerBound FLOAT,\n",
        "        UpperBound FLOAT,\n",
        "        Age_Group VARCHAR(20),\n",
        "        Country VARCHAR(100),\n",
        "        Region VARCHAR(100),\n",
        "        CI_Width FLOAT,\n",
        "        Obesity_Level VARCHAR(20)\n",
        "    )\n",
        "\"\"\")\n",
        "\n",
        "cursor.execute(\"\"\"\n",
        "    CREATE TABLE IF NOT EXISTS malnutrition (\n",
        "        id INT AUTO_INCREMENT PRIMARY KEY,\n",
        "        Year INT,\n",
        "        Gender VARCHAR(10),\n",
        "        Mean_Estimate FLOAT,\n",
        "        LowerBound FLOAT,\n",
        "        UpperBound FLOAT,\n",
        "        Age_Group VARCHAR(20),\n",
        "        Country VARCHAR(100),\n",
        "        Region VARCHAR(100),\n",
        "        CI_Width FLOAT,\n",
        "        Malnutrition_Level VARCHAR(20)\n",
        "    )\n",
        "\"\"\")"
      ]
    },
    {
      "cell_type": "code",
      "execution_count": null,
      "id": "a83a8bd6-0b5a-4b83-a53a-b78e774fa198",
      "metadata": {
        "id": "a83a8bd6-0b5a-4b83-a53a-b78e774fa198"
      },
      "outputs": [],
      "source": [
        "# Helper: convert NaN to None\n",
        "def clean_row(row):\n",
        "    return tuple(None if pd.isna(x) else x for x in row)\n",
        "\n",
        "# Insert obesity data\n",
        "for _, row in df_obesity.iterrows():\n",
        "    cursor.execute(\"\"\"\n",
        "        INSERT INTO obesity (\n",
        "            Year, Gender, Mean_Estimate, LowerBound, UpperBound,\n",
        "            Age_Group, Country, Region, CI_Width, Obesity_Level\n",
        "        ) VALUES (%s, %s, %s, %s, %s, %s, %s, %s, %s, %s)\n",
        "    \"\"\", clean_row(row))\n",
        "\n",
        "# Insert malnutrition data\n",
        "for _, row in df_malnutrition.iterrows():\n",
        "    cursor.execute(\"\"\"\n",
        "        INSERT INTO malnutrition (\n",
        "            Year, Gender, Mean_Estimate, LowerBound, UpperBound,\n",
        "            Age_Group, Country, Region, CI_Width, Malnutrition_Level\n",
        "        ) VALUES (%s, %s, %s, %s, %s, %s, %s, %s, %s, %s)\n",
        "    \"\"\", clean_row(row))\n",
        "\n",
        "# Commit & close\n",
        "conn.commit()\n",
        "cursor.close()\n",
        "conn.close()"
      ]
    },
    {
      "cell_type": "code",
      "execution_count": null,
      "id": "15ad382e-85b4-46cc-8383-fc10aa7a97e0",
      "metadata": {
        "id": "15ad382e-85b4-46cc-8383-fc10aa7a97e0"
      },
      "outputs": [],
      "source": []
    },
    {
      "cell_type": "code",
      "execution_count": null,
      "id": "3b63735f-2fa4-4194-b921-91471a495ab8",
      "metadata": {
        "id": "3b63735f-2fa4-4194-b921-91471a495ab8"
      },
      "outputs": [],
      "source": []
    },
    {
      "cell_type": "code",
      "execution_count": null,
      "id": "017e6bdf-ca75-4984-834c-096c4166583f",
      "metadata": {
        "id": "017e6bdf-ca75-4984-834c-096c4166583f"
      },
      "outputs": [],
      "source": []
    }
  ],
  "metadata": {
    "kernelspec": {
      "display_name": "Python [conda env:base] *",
      "language": "python",
      "name": "conda-base-py"
    },
    "language_info": {
      "codemirror_mode": {
        "name": "ipython",
        "version": 3
      },
      "file_extension": ".py",
      "mimetype": "text/x-python",
      "name": "python",
      "nbconvert_exporter": "python",
      "pygments_lexer": "ipython3",
      "version": "3.12.7"
    },
    "colab": {
      "provenance": [],
      "include_colab_link": true
    }
  },
  "nbformat": 4,
  "nbformat_minor": 5
}