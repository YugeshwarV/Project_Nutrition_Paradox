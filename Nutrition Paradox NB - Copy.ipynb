{
 "cells": [
  {
   "cell_type": "markdown",
   "id": "9899b496-7ba3-4e77-9571-33738bb66952",
   "metadata": {},
   "source": [
    "# Nutrition Paradox: A Global View on Obesity and Malnutrition"
   ]
  },
  {
   "cell_type": "markdown",
   "id": "a00b3db5-5efe-43b3-88d1-7c023c12a21b",
   "metadata": {},
   "source": [
    "### Step 1: Dataset Collection & Combination"
   ]
  },
  {
   "cell_type": "code",
   "execution_count": 7,
   "id": "fc5bf1c7-049b-439c-8438-d90559d6a77b",
   "metadata": {},
   "outputs": [],
   "source": [
    "import pandas as pd\n",
    "import requests"
   ]
  },
  {
   "cell_type": "code",
   "execution_count": 9,
   "id": "40ebb46c-f4f5-42b5-9b55-433a5e64d48b",
   "metadata": {},
   "outputs": [],
   "source": [
    "# API Endpoints\n",
    "urls = {\n",
    "    \"adult_obesity\": \"https://ghoapi.azureedge.net/api/NCD_BMI_30C\",\n",
    "    \"child_obesity\": \"https://ghoapi.azureedge.net/api/NCD_BMI_PLUS2C\",\n",
    "    \"adult_malnutrition\": \"https://ghoapi.azureedge.net/api/NCD_BMI_18C\",\n",
    "    \"child_malnutrition\": \"https://ghoapi.azureedge.net/api/NCD_BMI_MINUS2C\"\n",
    "}"
   ]
  },
  {
   "cell_type": "code",
   "execution_count": 11,
   "id": "90ab6641-38d5-4f21-a5c2-574d8561bce6",
   "metadata": {},
   "outputs": [],
   "source": [
    "def fetch_data(url):\n",
    "    response = requests.get(url)\n",
    "    data = response.json()[\"value\"]\n",
    "    return pd.json_normalize(data)"
   ]
  },
  {
   "cell_type": "code",
   "execution_count": 13,
   "id": "43f12278-13dc-4a86-8fb3-f1421a6b4412",
   "metadata": {},
   "outputs": [],
   "source": [
    "# Loading datasets\n",
    "df_adult_obesity = fetch_data(urls[\"adult_obesity\"])\n",
    "df_child_obesity = fetch_data(urls[\"child_obesity\"])\n",
    "df_adult_malnutrition = fetch_data(urls[\"adult_malnutrition\"])\n",
    "df_child_malnutrition = fetch_data(urls[\"child_malnutrition\"])"
   ]
  },
  {
   "cell_type": "code",
   "execution_count": 15,
   "id": "6b287f66-5d94-4968-a4df-fd610d002fc7",
   "metadata": {},
   "outputs": [],
   "source": [
    "# Adding age_group column\n",
    "df_adult_obesity[\"age_group\"] = \"Adult\"\n",
    "df_adult_malnutrition[\"age_group\"] = \"Adult\"\n",
    "df_child_obesity[\"age_group\"] = \"Child/Adolescent\"\n",
    "df_child_malnutrition[\"age_group\"] = \"Child/Adolescent\""
   ]
  },
  {
   "cell_type": "code",
   "execution_count": 17,
   "id": "dbe6d38e-472b-4452-b46f-21b4b08f403f",
   "metadata": {},
   "outputs": [],
   "source": [
    "# Combining datasets\n",
    "df_obesity = pd.concat([df_adult_obesity, df_child_obesity], ignore_index=True)\n",
    "df_malnutrition = pd.concat([df_adult_malnutrition, df_child_malnutrition], ignore_index=True)"
   ]
  },
  {
   "cell_type": "code",
   "execution_count": 19,
   "id": "906bfe61-8eef-4dcd-9801-b475afad727c",
   "metadata": {},
   "outputs": [],
   "source": [
    "# Filtering the data by year (2012–2022)\n",
    "df_obesity = df_obesity[df_obesity[\"TimeDim\"].between(2012, 2022)]\n",
    "df_malnutrition = df_malnutrition[df_malnutrition[\"TimeDim\"].between(2012, 2022)]"
   ]
  },
  {
   "cell_type": "code",
   "execution_count": 21,
   "id": "daad1662-0d6f-4b40-8434-46b7f0bacbf3",
   "metadata": {},
   "outputs": [
    {
     "name": "stdout",
     "output_type": "stream",
     "text": [
      "Obesity dataset shape: (27720, 26)\n",
      "Malnutrition dataset shape: (27720, 26)\n"
     ]
    }
   ],
   "source": [
    "#Initial results\n",
    "print(\"Obesity dataset shape:\", df_obesity.shape)\n",
    "print(\"Malnutrition dataset shape:\", df_malnutrition.shape)"
   ]
  },
  {
   "cell_type": "code",
   "execution_count": null,
   "id": "6c03338c-2c8d-4594-af31-1bbd56183bf8",
   "metadata": {},
   "outputs": [],
   "source": []
  },
  {
   "cell_type": "code",
   "execution_count": null,
   "id": "2c6df484-31a2-4172-92f8-bc906e716a15",
   "metadata": {},
   "outputs": [],
   "source": []
  },
  {
   "cell_type": "markdown",
   "id": "6b60ad7a-ba18-4a24-b146-c4a971528a6f",
   "metadata": {},
   "source": [
    "### Step 2: Data Cleaning & Feature Engineering"
   ]
  },
  {
   "cell_type": "code",
   "execution_count": 23,
   "id": "fad38b84-c4a0-4d51-902d-495097d2bb32",
   "metadata": {},
   "outputs": [],
   "source": [
    "import pycountry"
   ]
  },
  {
   "cell_type": "code",
   "execution_count": 25,
   "id": "bef2d37b-c4c8-423a-9608-3920b1557a15",
   "metadata": {},
   "outputs": [],
   "source": [
    "# 1: Columns to Retain\n",
    "cols_to_keep = [\"TimeDim\", \"Dim1\", \"NumericValue\", \"Low\", \"High\", \"ParentLocation\", \"SpatialDim\", \"age_group\"]\n",
    "df_obesity = df_obesity[cols_to_keep]\n",
    "df_malnutrition = df_malnutrition[cols_to_keep]"
   ]
  },
  {
   "cell_type": "code",
   "execution_count": 27,
   "id": "35f50a28-e06f-4475-ba7c-4c073892858d",
   "metadata": {},
   "outputs": [
    {
     "data": {
      "text/plain": [
       "(27720, 8)"
      ]
     },
     "execution_count": 27,
     "metadata": {},
     "output_type": "execute_result"
    }
   ],
   "source": [
    "df_obesity.shape"
   ]
  },
  {
   "cell_type": "code",
   "execution_count": 29,
   "id": "be1def7d-c20e-4394-9be7-9e0213ecbeb8",
   "metadata": {},
   "outputs": [
    {
     "data": {
      "text/plain": [
       "(27720, 8)"
      ]
     },
     "execution_count": 29,
     "metadata": {},
     "output_type": "execute_result"
    }
   ],
   "source": [
    "df_malnutrition.shape"
   ]
  },
  {
   "cell_type": "code",
   "execution_count": null,
   "id": "1e974c1e-d2af-403a-90ff-e0a5a6e4fd0d",
   "metadata": {},
   "outputs": [],
   "source": []
  },
  {
   "cell_type": "code",
   "execution_count": 31,
   "id": "0821aefe-3437-4e3b-83dc-92f4564df76f",
   "metadata": {},
   "outputs": [],
   "source": [
    "# 2: Renaming the columns\n",
    "rename_map = {\n",
    "    \"TimeDim\": \"Year\",\n",
    "    \"Dim1\": \"Gender\",\n",
    "    \"NumericValue\": \"Mean_Estimate\",\n",
    "    \"Low\": \"LowerBound\",\n",
    "    \"High\": \"UpperBound\",\n",
    "    \"ParentLocation\": \"Region\",\n",
    "    \"SpatialDim\": \"Country\",\n",
    "    \"age_group\": \"Age_group\"\n",
    "}\n",
    "df_obesity.rename(columns=rename_map, inplace=True)\n",
    "df_malnutrition.rename(columns=rename_map, inplace=True)\n"
   ]
  },
  {
   "cell_type": "code",
   "execution_count": 33,
   "id": "3780be9e-a3d7-4727-ad2c-ce8a3271f5bc",
   "metadata": {},
   "outputs": [],
   "source": [
    "# 3: Standardizing gender values\n",
    "def clean_gender(g):\n",
    "    g = g.lower()\n",
    "    if \"fmle\" in g: return \"Female\"\n",
    "    if \"mle\" in g: return \"Male\"\n",
    "    return \"Both\""
   ]
  },
  {
   "cell_type": "code",
   "execution_count": 35,
   "id": "8f0ad8af-7b00-44b0-9b31-032472bfa4aa",
   "metadata": {},
   "outputs": [],
   "source": [
    "df_obesity[\"Gender\"] = df_obesity[\"Gender\"].apply(clean_gender)\n",
    "df_malnutrition[\"Gender\"] = df_malnutrition[\"Gender\"].apply(clean_gender)"
   ]
  },
  {
   "cell_type": "code",
   "execution_count": 37,
   "id": "49c5b9a8-a077-4b6d-89e7-60e804c1b12d",
   "metadata": {},
   "outputs": [],
   "source": [
    "# 4: Converting ISO codes to country names using pycountry\n",
    "def get_country_name(code):\n",
    "    try:\n",
    "        return pycountry.countries.get(alpha_3=code).name\n",
    "    except:\n",
    "        return None\n",
    "\n",
    "special_cases = {\n",
    "    \"GLOBAL\": \"Global\",\n",
    "    \"WB_LMI\": \"Low & Middle Income\",\n",
    "    \"WB_HI\": \"High Income\",\n",
    "    \"WB_LI\": \"Low Income\",\n",
    "    \"EMR\": \"Eastern Mediterranean Region\",\n",
    "    \"EUR\": \"Europe\",\n",
    "    \"AFR\": \"Africa\",\n",
    "    \"SEAR\": \"South-East Asia Region\",\n",
    "    \"WPR\": \"Western Pacific Region\",\n",
    "    \"AMR\": \"Americas Region\",\n",
    "    \"WB_UMI\": \"Upper Middle Income\"\n",
    "}\n",
    "\n",
    "def convert_country(code):\n",
    "    return get_country_name(code) or special_cases.get(code, code)\n",
    "\n",
    "df_obesity[\"Country\"] = df_obesity[\"Country\"].apply(convert_country)\n",
    "df_malnutrition[\"Country\"] = df_malnutrition[\"Country\"].apply(convert_country)\n"
   ]
  },
  {
   "cell_type": "code",
   "execution_count": null,
   "id": "23390e30-5211-4141-a1a2-308460ce491c",
   "metadata": {},
   "outputs": [],
   "source": []
  },
  {
   "cell_type": "code",
   "execution_count": null,
   "id": "3d1d3c81-44e2-4b1a-b7a7-3b7d7faa29e7",
   "metadata": {},
   "outputs": [],
   "source": []
  },
  {
   "cell_type": "code",
   "execution_count": 39,
   "id": "d5fee3a0-3e17-4903-a371-6d023b418ffe",
   "metadata": {},
   "outputs": [],
   "source": [
    "# 5: Add CI_Width column\n",
    "df_obesity[\"CI_Width\"] = df_obesity[\"UpperBound\"] - df_obesity[\"LowerBound\"]\n",
    "df_malnutrition[\"CI_Width\"] = df_malnutrition[\"UpperBound\"] - df_malnutrition[\"LowerBound\"]\n"
   ]
  },
  {
   "cell_type": "code",
   "execution_count": 41,
   "id": "bdf84e48-60fc-4469-84a2-a12d7e0aa68f",
   "metadata": {},
   "outputs": [],
   "source": [
    "# 6: Adding obesity_level\n",
    "def get_obesity_level(val):\n",
    "    if val >= 30: return \"High\"\n",
    "    elif val >= 25: return \"Moderate\"\n",
    "    else: return \"Low\"\n",
    "\n",
    "df_obesity[\"Obesity_Level\"] = df_obesity[\"Mean_Estimate\"].apply(get_obesity_level)\n"
   ]
  },
  {
   "cell_type": "code",
   "execution_count": 43,
   "id": "96c89704-1749-451f-acc8-896e15027e6a",
   "metadata": {},
   "outputs": [
    {
     "data": {
      "text/plain": [
       "1             Low\n",
       "8        Moderate\n",
       "14       Moderate\n",
       "16           High\n",
       "17           High\n",
       "           ...   \n",
       "83137         Low\n",
       "83140         Low\n",
       "83148         Low\n",
       "83151         Low\n",
       "83154         Low\n",
       "Name: Obesity_Level, Length: 27720, dtype: object"
      ]
     },
     "execution_count": 43,
     "metadata": {},
     "output_type": "execute_result"
    }
   ],
   "source": [
    "df_obesity[\"Obesity_Level\"]"
   ]
  },
  {
   "cell_type": "code",
   "execution_count": 45,
   "id": "2e2c04ff-e662-405f-9410-bf4646c7c7c8",
   "metadata": {},
   "outputs": [],
   "source": [
    "# 7: Adding malnutrition_level\n",
    "def get_malnutrition_level(val):\n",
    "    if val >= 20: return \"High\"\n",
    "    elif val >= 10: return \"Moderate\"\n",
    "    else: return \"Low\"\n",
    "\n",
    "df_malnutrition[\"Malnutrition_Level\"] = df_malnutrition[\"Mean_Estimate\"].apply(get_malnutrition_level)\n"
   ]
  },
  {
   "cell_type": "code",
   "execution_count": 47,
   "id": "142d7d07-6f76-41ee-b515-58e85a7ed183",
   "metadata": {},
   "outputs": [
    {
     "data": {
      "text/plain": [
       "0             Low\n",
       "4             Low\n",
       "5             Low\n",
       "7        Moderate\n",
       "9             Low\n",
       "           ...   \n",
       "83147         Low\n",
       "83149         Low\n",
       "83150         Low\n",
       "83156         Low\n",
       "83159         Low\n",
       "Name: Malnutrition_Level, Length: 27720, dtype: object"
      ]
     },
     "execution_count": 47,
     "metadata": {},
     "output_type": "execute_result"
    }
   ],
   "source": [
    "df_malnutrition[\"Malnutrition_Level\"]"
   ]
  },
  {
   "cell_type": "code",
   "execution_count": 49,
   "id": "fba73208-47ff-4b83-8509-6fcd62abe7e0",
   "metadata": {},
   "outputs": [],
   "source": [
    "obesity_cols = [\"Year\", \"Gender\", \"Mean_Estimate\", \"LowerBound\", \"UpperBound\",\n",
    "                \"Age_group\", \"Country\", \"Region\", \"CI_Width\", \"Obesity_Level\"]\n",
    "malnutrition_cols = [\"Year\", \"Gender\", \"Mean_Estimate\", \"LowerBound\", \"UpperBound\",\n",
    "                     \"Age_group\", \"Country\", \"Region\", \"CI_Width\", \"Malnutrition_Level\"]\n",
    "\n",
    "df_obesity = df_obesity[obesity_cols]\n",
    "df_malnutrition = df_malnutrition[malnutrition_cols]"
   ]
  },
  {
   "cell_type": "code",
   "execution_count": 57,
   "id": "f176eb2c-2ea8-4dbe-9654-ad9f02e4f8e0",
   "metadata": {},
   "outputs": [
    {
     "data": {
      "text/html": [
       "<div>\n",
       "<style scoped>\n",
       "    .dataframe tbody tr th:only-of-type {\n",
       "        vertical-align: middle;\n",
       "    }\n",
       "\n",
       "    .dataframe tbody tr th {\n",
       "        vertical-align: top;\n",
       "    }\n",
       "\n",
       "    .dataframe thead th {\n",
       "        text-align: right;\n",
       "    }\n",
       "</style>\n",
       "<table border=\"1\" class=\"dataframe\">\n",
       "  <thead>\n",
       "    <tr style=\"text-align: right;\">\n",
       "      <th></th>\n",
       "      <th>Year</th>\n",
       "      <th>Gender</th>\n",
       "      <th>Mean_Estimate</th>\n",
       "      <th>LowerBound</th>\n",
       "      <th>UpperBound</th>\n",
       "      <th>Age_group</th>\n",
       "      <th>Country</th>\n",
       "      <th>Region</th>\n",
       "      <th>CI_Width</th>\n",
       "      <th>Obesity_Level</th>\n",
       "    </tr>\n",
       "  </thead>\n",
       "  <tbody>\n",
       "    <tr>\n",
       "      <th>1</th>\n",
       "      <td>2020</td>\n",
       "      <td>Male</td>\n",
       "      <td>17.48764</td>\n",
       "      <td>15.79378</td>\n",
       "      <td>19.24573</td>\n",
       "      <td>Adult</td>\n",
       "      <td>Iran, Islamic Republic of</td>\n",
       "      <td>Eastern Mediterranean</td>\n",
       "      <td>3.45195</td>\n",
       "      <td>Low</td>\n",
       "    </tr>\n",
       "    <tr>\n",
       "      <th>8</th>\n",
       "      <td>2020</td>\n",
       "      <td>Male</td>\n",
       "      <td>28.33553</td>\n",
       "      <td>23.08959</td>\n",
       "      <td>33.81534</td>\n",
       "      <td>Adult</td>\n",
       "      <td>Iraq</td>\n",
       "      <td>Eastern Mediterranean</td>\n",
       "      <td>10.72575</td>\n",
       "      <td>Moderate</td>\n",
       "    </tr>\n",
       "    <tr>\n",
       "      <th>14</th>\n",
       "      <td>2014</td>\n",
       "      <td>Female</td>\n",
       "      <td>27.94870</td>\n",
       "      <td>24.92477</td>\n",
       "      <td>31.21326</td>\n",
       "      <td>Adult</td>\n",
       "      <td>Greenland</td>\n",
       "      <td>Europe</td>\n",
       "      <td>6.28849</td>\n",
       "      <td>Moderate</td>\n",
       "    </tr>\n",
       "    <tr>\n",
       "      <th>16</th>\n",
       "      <td>2019</td>\n",
       "      <td>Female</td>\n",
       "      <td>31.89322</td>\n",
       "      <td>28.16068</td>\n",
       "      <td>35.57493</td>\n",
       "      <td>Adult</td>\n",
       "      <td>Armenia</td>\n",
       "      <td>Europe</td>\n",
       "      <td>7.41425</td>\n",
       "      <td>High</td>\n",
       "    </tr>\n",
       "    <tr>\n",
       "      <th>17</th>\n",
       "      <td>2018</td>\n",
       "      <td>Both</td>\n",
       "      <td>33.69421</td>\n",
       "      <td>29.90581</td>\n",
       "      <td>37.47086</td>\n",
       "      <td>Adult</td>\n",
       "      <td>Malta</td>\n",
       "      <td>Europe</td>\n",
       "      <td>7.56505</td>\n",
       "      <td>High</td>\n",
       "    </tr>\n",
       "  </tbody>\n",
       "</table>\n",
       "</div>"
      ],
      "text/plain": [
       "    Year  Gender  Mean_Estimate  LowerBound  UpperBound Age_group  \\\n",
       "1   2020    Male       17.48764    15.79378    19.24573     Adult   \n",
       "8   2020    Male       28.33553    23.08959    33.81534     Adult   \n",
       "14  2014  Female       27.94870    24.92477    31.21326     Adult   \n",
       "16  2019  Female       31.89322    28.16068    35.57493     Adult   \n",
       "17  2018    Both       33.69421    29.90581    37.47086     Adult   \n",
       "\n",
       "                      Country                 Region  CI_Width Obesity_Level  \n",
       "1   Iran, Islamic Republic of  Eastern Mediterranean   3.45195           Low  \n",
       "8                        Iraq  Eastern Mediterranean  10.72575      Moderate  \n",
       "14                  Greenland                 Europe   6.28849      Moderate  \n",
       "16                    Armenia                 Europe   7.41425          High  \n",
       "17                      Malta                 Europe   7.56505          High  "
      ]
     },
     "execution_count": 57,
     "metadata": {},
     "output_type": "execute_result"
    }
   ],
   "source": [
    "df_obesity.head()"
   ]
  },
  {
   "cell_type": "code",
   "execution_count": 55,
   "id": "8dee8bf4-646c-4f35-b795-3db69d2b4e10",
   "metadata": {},
   "outputs": [
    {
     "data": {
      "text/html": [
       "<div>\n",
       "<style scoped>\n",
       "    .dataframe tbody tr th:only-of-type {\n",
       "        vertical-align: middle;\n",
       "    }\n",
       "\n",
       "    .dataframe tbody tr th {\n",
       "        vertical-align: top;\n",
       "    }\n",
       "\n",
       "    .dataframe thead th {\n",
       "        text-align: right;\n",
       "    }\n",
       "</style>\n",
       "<table border=\"1\" class=\"dataframe\">\n",
       "  <thead>\n",
       "    <tr style=\"text-align: right;\">\n",
       "      <th></th>\n",
       "      <th>Year</th>\n",
       "      <th>Gender</th>\n",
       "      <th>Mean_Estimate</th>\n",
       "      <th>LowerBound</th>\n",
       "      <th>UpperBound</th>\n",
       "      <th>Age_group</th>\n",
       "      <th>Country</th>\n",
       "      <th>Region</th>\n",
       "      <th>CI_Width</th>\n",
       "      <th>Malnutrition_Level</th>\n",
       "    </tr>\n",
       "  </thead>\n",
       "  <tbody>\n",
       "    <tr>\n",
       "      <th>0</th>\n",
       "      <td>2021</td>\n",
       "      <td>Female</td>\n",
       "      <td>5.79511</td>\n",
       "      <td>3.97204</td>\n",
       "      <td>8.07702</td>\n",
       "      <td>Adult</td>\n",
       "      <td>Gabon</td>\n",
       "      <td>Africa</td>\n",
       "      <td>4.10498</td>\n",
       "      <td>Low</td>\n",
       "    </tr>\n",
       "    <tr>\n",
       "      <th>4</th>\n",
       "      <td>2017</td>\n",
       "      <td>Both</td>\n",
       "      <td>3.09065</td>\n",
       "      <td>2.42823</td>\n",
       "      <td>3.84215</td>\n",
       "      <td>Adult</td>\n",
       "      <td>Mongolia</td>\n",
       "      <td>Western Pacific</td>\n",
       "      <td>1.41392</td>\n",
       "      <td>Low</td>\n",
       "    </tr>\n",
       "    <tr>\n",
       "      <th>5</th>\n",
       "      <td>2016</td>\n",
       "      <td>Female</td>\n",
       "      <td>8.37172</td>\n",
       "      <td>6.65567</td>\n",
       "      <td>10.25312</td>\n",
       "      <td>Adult</td>\n",
       "      <td>Sierra Leone</td>\n",
       "      <td>Africa</td>\n",
       "      <td>3.59745</td>\n",
       "      <td>Low</td>\n",
       "    </tr>\n",
       "    <tr>\n",
       "      <th>7</th>\n",
       "      <td>2021</td>\n",
       "      <td>Both</td>\n",
       "      <td>13.33635</td>\n",
       "      <td>12.24232</td>\n",
       "      <td>14.44287</td>\n",
       "      <td>Adult</td>\n",
       "      <td>South-East Asia Region</td>\n",
       "      <td>None</td>\n",
       "      <td>2.20055</td>\n",
       "      <td>Moderate</td>\n",
       "    </tr>\n",
       "    <tr>\n",
       "      <th>9</th>\n",
       "      <td>2014</td>\n",
       "      <td>Male</td>\n",
       "      <td>2.20807</td>\n",
       "      <td>1.25384</td>\n",
       "      <td>3.51682</td>\n",
       "      <td>Adult</td>\n",
       "      <td>Qatar</td>\n",
       "      <td>Eastern Mediterranean</td>\n",
       "      <td>2.26298</td>\n",
       "      <td>Low</td>\n",
       "    </tr>\n",
       "  </tbody>\n",
       "</table>\n",
       "</div>"
      ],
      "text/plain": [
       "   Year  Gender  Mean_Estimate  LowerBound  UpperBound Age_group  \\\n",
       "0  2021  Female        5.79511     3.97204     8.07702     Adult   \n",
       "4  2017    Both        3.09065     2.42823     3.84215     Adult   \n",
       "5  2016  Female        8.37172     6.65567    10.25312     Adult   \n",
       "7  2021    Both       13.33635    12.24232    14.44287     Adult   \n",
       "9  2014    Male        2.20807     1.25384     3.51682     Adult   \n",
       "\n",
       "                  Country                 Region  CI_Width Malnutrition_Level  \n",
       "0                   Gabon                 Africa   4.10498                Low  \n",
       "4                Mongolia        Western Pacific   1.41392                Low  \n",
       "5            Sierra Leone                 Africa   3.59745                Low  \n",
       "7  South-East Asia Region                   None   2.20055           Moderate  \n",
       "9                   Qatar  Eastern Mediterranean   2.26298                Low  "
      ]
     },
     "execution_count": 55,
     "metadata": {},
     "output_type": "execute_result"
    }
   ],
   "source": [
    "df_malnutrition.head()"
   ]
  },
  {
   "cell_type": "code",
   "execution_count": null,
   "id": "bcefaf83-a59d-4506-8199-95a80225f394",
   "metadata": {},
   "outputs": [],
   "source": []
  },
  {
   "cell_type": "code",
   "execution_count": null,
   "id": "402461af-cecb-4337-910b-63c7873fc21b",
   "metadata": {},
   "outputs": [],
   "source": []
  },
  {
   "cell_type": "markdown",
   "id": "5459f87a-bf6a-4eb4-b245-22bf3f0ed222",
   "metadata": {},
   "source": [
    "#### Data Overview & Basic Stats"
   ]
  },
  {
   "cell_type": "code",
   "execution_count": 59,
   "id": "00610a90-2ede-4e39-bc02-dd6dd5a1ec3a",
   "metadata": {},
   "outputs": [
    {
     "name": "stdout",
     "output_type": "stream",
     "text": [
      "Obesity Data Shape: (27720, 10)\n",
      "Malnutrition Data Shape: (27720, 10)\n"
     ]
    }
   ],
   "source": [
    "# To check data shape and columns\n",
    "print(\"Obesity Data Shape:\", df_obesity.shape)\n",
    "print(\"Malnutrition Data Shape:\", df_malnutrition.shape)"
   ]
  },
  {
   "cell_type": "code",
   "execution_count": 61,
   "id": "b89dc7d9-48e0-45a0-873c-47b5e856943f",
   "metadata": {},
   "outputs": [
    {
     "name": "stdout",
     "output_type": "stream",
     "text": [
      "               Year  Mean_Estimate    LowerBound    UpperBound      CI_Width\n",
      "count  27720.000000   27720.000000  27720.000000  27720.000000  27720.000000\n",
      "mean    2017.000000      12.761041      9.393155     17.068489      7.675334\n",
      "std        3.162335      10.858925      9.893854     12.395013      6.616899\n",
      "min     2012.000000       0.265670      0.077540      0.547850      0.216700\n",
      "25%     2014.000000       4.753960      2.354430      7.875503      2.926715\n",
      "50%     2017.000000       9.944540      6.506535     13.704380      5.480535\n",
      "75%     2020.000000      17.482418     12.697755     23.986050     10.338880\n",
      "max     2022.000000      80.609250     74.365370     87.868510     40.554060\n",
      "               Year  Mean_Estimate    LowerBound    UpperBound      CI_Width\n",
      "count  27720.000000   27720.000000  27720.000000  27720.000000  27720.000000\n",
      "mean    2017.000000       5.354451      3.397094      8.147889      4.750795\n",
      "std        3.162335       4.811220      3.908061      6.443692      4.257684\n",
      "min     2012.000000       0.175310      0.023700      0.354830      0.166680\n",
      "25%     2014.000000       2.039283      1.053662      3.143305      1.603222\n",
      "50%     2017.000000       3.597790      1.907975      6.095555      3.351095\n",
      "75%     2020.000000       7.335245      4.186443     11.526302      6.530875\n",
      "max     2022.000000      35.894110     31.365400     43.680290     26.701740\n"
     ]
    }
   ],
   "source": [
    "# Summary statistics\n",
    "print(df_obesity.describe())\n",
    "print(df_malnutrition.describe())"
   ]
  },
  {
   "cell_type": "code",
   "execution_count": 63,
   "id": "b55a9342-3e99-4e06-a1b5-af825e1f1cbb",
   "metadata": {},
   "outputs": [
    {
     "name": "stdout",
     "output_type": "stream",
     "text": [
      "Year                0\n",
      "Gender              0\n",
      "Mean_Estimate       0\n",
      "LowerBound          0\n",
      "UpperBound          0\n",
      "Age_group           0\n",
      "Country             0\n",
      "Region           1452\n",
      "CI_Width            0\n",
      "Obesity_Level       0\n",
      "dtype: int64\n",
      "Year                     0\n",
      "Gender                   0\n",
      "Mean_Estimate            0\n",
      "LowerBound               0\n",
      "UpperBound               0\n",
      "Age_group                0\n",
      "Country                  0\n",
      "Region                1452\n",
      "CI_Width                 0\n",
      "Malnutrition_Level       0\n",
      "dtype: int64\n"
     ]
    }
   ],
   "source": [
    "# Check for missing values\n",
    "print(df_obesity.isnull().sum())\n",
    "print(df_malnutrition.isnull().sum())"
   ]
  },
  {
   "cell_type": "code",
   "execution_count": 65,
   "id": "e857f291-70ee-4ef2-8b89-eab92b938a6c",
   "metadata": {},
   "outputs": [
    {
     "name": "stdout",
     "output_type": "stream",
     "text": [
      "Obesity Gender unique values: ['Male' 'Female' 'Both']\n",
      "Malnutrition Gender unique values: ['Female' 'Both' 'Male']\n"
     ]
    }
   ],
   "source": [
    "# Unique values in categorical columns\n",
    "print(\"Obesity Gender unique values:\", df_obesity[\"Gender\"].unique())\n",
    "print(\"Malnutrition Gender unique values:\", df_malnutrition[\"Gender\"].unique())\n"
   ]
  },
  {
   "cell_type": "code",
   "execution_count": 67,
   "id": "1545feef-6175-4b0b-b00b-6abdc9f900c7",
   "metadata": {},
   "outputs": [
    {
     "name": "stdout",
     "output_type": "stream",
     "text": [
      "Obesity Gender unique values: ['Male' 'Female' 'Both']\n",
      "Malnutrition Gender unique values: ['Female' 'Both' 'Male']\n"
     ]
    }
   ],
   "source": [
    "# Unique values in categorical columns\n",
    "print(\"Obesity Gender unique values:\", df_obesity[\"Gender\"].unique())\n",
    "print(\"Malnutrition Gender unique values:\", df_malnutrition[\"Gender\"].unique())\n"
   ]
  },
  {
   "cell_type": "code",
   "execution_count": 69,
   "id": "652bf099-cb92-4883-a9fc-7ddac9ca61b2",
   "metadata": {},
   "outputs": [
    {
     "name": "stdout",
     "output_type": "stream",
     "text": [
      "Obesity Age Groups: ['Adult' 'Child/Adolescent']\n",
      "Malnutrition Age Groups: ['Adult' 'Child/Adolescent']\n"
     ]
    }
   ],
   "source": [
    "print(\"Obesity Age Groups:\", df_obesity[\"Age_group\"].unique())\n",
    "print(\"Malnutrition Age Groups:\", df_malnutrition[\"Age_group\"].unique())"
   ]
  },
  {
   "cell_type": "code",
   "execution_count": 71,
   "id": "73087808-ebd3-4cd4-808e-898066009493",
   "metadata": {},
   "outputs": [
    {
     "name": "stdout",
     "output_type": "stream",
     "text": [
      "Number of Countries in Obesity: 210\n",
      "Number of Countries in Malnutrition: 210\n"
     ]
    }
   ],
   "source": [
    "print(\"Number of Countries in Obesity:\", len(df_obesity[\"Country\"].unique()))\n",
    "print(\"Number of Countries in Malnutrition:\", len(df_malnutrition[\"Country\"].unique()))"
   ]
  },
  {
   "cell_type": "code",
   "execution_count": null,
   "id": "858d3116-22c1-4724-ac6d-17f325ec7e65",
   "metadata": {},
   "outputs": [],
   "source": []
  },
  {
   "cell_type": "code",
   "execution_count": null,
   "id": "f589dd9c-83c7-480d-9d04-6c44f0248051",
   "metadata": {},
   "outputs": [],
   "source": []
  },
  {
   "cell_type": "markdown",
   "id": "7854bf28-6482-4d73-a8cd-1b12010e86b8",
   "metadata": {},
   "source": [
    "#### Distribution of Mean Estimates"
   ]
  },
  {
   "cell_type": "markdown",
   "id": "e23e99ec-1deb-48b5-b3c1-aee941b503c3",
   "metadata": {},
   "source": [
    "#### Saving the cleaned DataFrames as CSVs"
   ]
  },
  {
   "cell_type": "code",
   "execution_count": 124,
   "id": "4ea7a69e-f6dd-4ab5-910d-9d8162b4be8a",
   "metadata": {},
   "outputs": [],
   "source": [
    "df_obesity.to_csv(\"cleaned_obesity.csv\", index=False)\n",
    "df_malnutrition.to_csv(\"cleaned_malnutrition.csv\", index=False)"
   ]
  },
  {
   "cell_type": "code",
   "execution_count": null,
   "id": "e3e18fe1-7db1-41ef-89eb-15d8d46d4524",
   "metadata": {},
   "outputs": [],
   "source": []
  }
 ],
 "metadata": {
  "kernelspec": {
   "display_name": "Python [conda env:base] *",
   "language": "python",
   "name": "conda-base-py"
  },
  "language_info": {
   "codemirror_mode": {
    "name": "ipython",
    "version": 3
   },
   "file_extension": ".py",
   "mimetype": "text/x-python",
   "name": "python",
   "nbconvert_exporter": "python",
   "pygments_lexer": "ipython3",
   "version": "3.12.7"
  }
 },
 "nbformat": 4,
 "nbformat_minor": 5
}
